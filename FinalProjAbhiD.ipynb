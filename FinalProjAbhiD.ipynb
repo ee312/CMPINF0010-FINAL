{
 "cells": [
  {
   "cell_type": "markdown",
   "id": "c7e80d94-e2a9-461b-9348-2be4dd3bc666",
   "metadata": {},
   "source": [
    "For my end of the project, I did my data analysis using Pandas and the values_counts() function. Additionally, to scan through and filter by time, I imported a datetime library to help me filter."
   ]
  },
  {
   "cell_type": "code",
   "execution_count": 40,
   "id": "bda6ca9c-b8f1-48bd-8239-b6b1096a81b4",
   "metadata": {},
   "outputs": [
    {
     "name": "stdout",
     "output_type": "stream",
     "text": [
      "INCIDENTNEIGHBORHOOD\n",
      "Central Business District    4440\n",
      "South Side Flats             3497\n",
      "Carrick                      2352\n",
      "East Allegheny               2217\n",
      "Homewood South               2090\n",
      "                             ... \n",
      "Regent Square                  37\n",
      "Central Northside              23\n",
      "Mt. Oliver Boro                18\n",
      "Troy Hill-Herrs Island          6\n",
      "Mt. Oliver Neighborhood         2\n",
      "Name: count, Length: 98, dtype: int64\n"
     ]
    }
   ],
   "source": [
    "# Imports:\n",
    "import pandas as pd\n",
    "from datetime import datetime, timedelta\n",
    "\n",
    "\n",
    "PoliceArrestsData = pd.read_csv('PoliceArrests.csv', sep=\",\")\n",
    "\n",
    "# Datetime Libraries to Filter\n",
    "PoliceArrestsData['ARRESTTIME'] = pd.to_datetime(PoliceArrestsData['ARRESTTIME'], errors='coerce')\n",
    "\n",
    "# Group and Display by Neighborhoods\n",
    "neighborhood_arrests = PoliceArrestsData[\"INCIDENTNEIGHBORHOOD\"].value_counts()\n",
    "print(neighborhood_arrests)"
   ]
  },
  {
   "cell_type": "markdown",
   "id": "02725863-1378-4d06-92d4-ba822fdeec51",
   "metadata": {},
   "source": [
    "Police Arrests: For this section of the project, we filtered out the Incident Neighborhoods by filtering out the frequency of how many times an incident neighborhood occurred in our data to display the arrest. However, because this data spans back to 2016, I did another filter to see the crime in the past 4 years."
   ]
  },
  {
   "cell_type": "code",
   "execution_count": 44,
   "id": "ae8d5ca2-eb21-42d5-8b65-054b4d22d94e",
   "metadata": {},
   "outputs": [
    {
     "name": "stdout",
     "output_type": "stream",
     "text": [
      "INCIDENTNEIGHBORHOOD\n",
      "Central Business District    1674\n",
      "South Side Flats             1154\n",
      "Carrick                       705\n",
      "East Allegheny                691\n",
      "East Liberty                  644\n",
      "                             ... \n",
      "Regent Square                  15\n",
      "New Homestead                  13\n",
      "Ridgemont                      12\n",
      "East Carnegie                  12\n",
      "Mt. Oliver Boro                 2\n",
      "Name: count, Length: 94, dtype: int64\n"
     ]
    }
   ],
   "source": [
    "four_years_ago = datetime.now() - timedelta(days=4*365)\n",
    "PD_recent = PoliceArrestsData[PoliceArrestsData['ARRESTTIME'] >= four_years_ago]\n",
    "neighborhood_incidents = PD_recent[\"INCIDENTNEIGHBORHOOD\"].value_counts()\n",
    "print(neighborhood_incidents)"
   ]
  },
  {
   "cell_type": "markdown",
   "id": "3ae666f1-f381-4de8-8647-30dcf65212ee",
   "metadata": {},
   "source": [
    "The data for the top more or less remained the same with Central Business District being the area with the most amount of crimes. However, East Liberty replaced Homewood South's place for most incidents. Curious to see how much Homewood South dropped, I checked it's exact number of incidents"
   ]
  },
  {
   "cell_type": "code",
   "execution_count": 47,
   "id": "b12594f6-4012-4ce7-86ac-5d1b823dbc7f",
   "metadata": {},
   "outputs": [
    {
     "name": "stdout",
     "output_type": "stream",
     "text": [
      "Number of incidents in Homewood South in the past 4 years: 599\n"
     ]
    }
   ],
   "source": [
    "# Filtering for \"Homewood South\" \n",
    "homewood_south_incidents = PD_recent[PD_recent[\"INCIDENTNEIGHBORHOOD\"] == \"Homewood South\"]\n",
    "\n",
    "# Count and print\n",
    "homewood_south_count = homewood_south_incidents.shape[0]\n",
    "print(f\"Number of incidents in Homewood South in the past 4 years: {homewood_south_count}\")"
   ]
  },
  {
   "cell_type": "markdown",
   "id": "4dff0dd5-a18a-4f01-90eb-f28f036c8f1f",
   "metadata": {},
   "source": [
    "Since it didn't change much, I hypothesized that the other areas didn't change marginally either, which led me to conclude that Central Business Districts, in terms of Police Arrests was the most dangerous neighborhood."
   ]
  },
  {
   "cell_type": "code",
   "execution_count": 67,
   "id": "9db7f179-144e-4d40-81c4-5badea2f7b9e",
   "metadata": {},
   "outputs": [
    {
     "name": "stdout",
     "output_type": "stream",
     "text": [
      "Neighborhoods with the most incidents since 2022:\n",
      "INCIDENTNEIGHBORHOOD\n",
      "Central Business District    1173\n",
      "South Side Flats              715\n",
      "East Allegheny                474\n",
      "Carrick                       439\n",
      "East Liberty                  405\n",
      "                             ... \n",
      "Regent Square                   9\n",
      "Ridgemont                       9\n",
      "East Carnegie                   5\n",
      "New Homestead                   4\n",
      "Mt. Oliver Boro                 1\n",
      "Name: count, Length: 94, dtype: int64\n"
     ]
    }
   ],
   "source": [
    "start_date = datetime(2022, 1, 1)\n",
    "\n",
    "# Filter the dataset for records since the start of 2022\n",
    "PD_2022 = PoliceArrestsData[PoliceArrestsData['ARRESTTIME'] >= start_date]\n",
    "\n",
    "# Count incidents by neighborhood\n",
    "neighborhood_incidents_since_2022 = PD_2022[\"INCIDENTNEIGHBORHOOD\"].value_counts()\n",
    "\n",
    "# Display the neighborhoods with the most incidents\n",
    "print(\"Neighborhoods with the most incidents since 2022:\")\n",
    "print(neighborhood_incidents_since_2022)"
   ]
  },
  {
   "cell_type": "code",
   "execution_count": null,
   "id": "3a311e26-39be-4035-b4b6-775ed3b29570",
   "metadata": {},
   "outputs": [],
   "source": []
  }
 ],
 "metadata": {
  "kernelspec": {
   "display_name": "Python 3 (ipykernel)",
   "language": "python",
   "name": "python3"
  },
  "language_info": {
   "codemirror_mode": {
    "name": "ipython",
    "version": 3
   },
   "file_extension": ".py",
   "mimetype": "text/x-python",
   "name": "python",
   "nbconvert_exporter": "python",
   "pygments_lexer": "ipython3",
   "version": "3.12.4"
  }
 },
 "nbformat": 4,
 "nbformat_minor": 5
}
