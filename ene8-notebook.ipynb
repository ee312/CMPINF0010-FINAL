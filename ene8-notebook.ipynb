{
 "cells": [
  {
   "cell_type": "markdown",
   "id": "b0d06e02-6686-4e73-b218-c90cb08a47ac",
   "metadata": {},
   "source": [
    "# [Fatal Accidental Overdoses](https://data.wprdc.org/dataset/allegheny-county-fatal-accidental-overdoses/resource/1c59b26a-1684-4bfb-92f7-205b947530cf)\n",
    "\n",
    "**Fatal Overdoses as a Metric**\n",
    "\n",
    "\n",
    "\n"
   ]
  },
  {
   "cell_type": "code",
   "execution_count": 2,
   "id": "865c6914-830d-491a-99c4-93b8916f8f62",
   "metadata": {},
   "outputs": [],
   "source": [
    "import pandas as pd\n",
    "%matplotlib inline\n",
    "import fpsnippets\n",
    "\n",
    "od_csv = \"https://data.wprdc.org/dataset/allegheny-county-fatal-accidental-overdoses/resource/1c59b26a-1684-4bfb-92f7-205b947530cf/download/1c59b26a-1684-4bfb-92f7-205b947530cf.csv\"\n",
    "od_data = pd.read_csv(od_csv)\n"
   ]
  },
  {
   "cell_type": "code",
   "execution_count": null,
   "id": "1f70e714-2ebc-4b19-878d-2fe5eccb1c65",
   "metadata": {},
   "outputs": [],
   "source": []
  }
 ],
 "metadata": {
  "kernelspec": {
   "display_name": "Python 3 (ipykernel)",
   "language": "python",
   "name": "python3"
  },
  "language_info": {
   "codemirror_mode": {
    "name": "ipython",
    "version": 3
   },
   "file_extension": ".py",
   "mimetype": "text/x-python",
   "name": "python",
   "nbconvert_exporter": "python",
   "pygments_lexer": "ipython3",
   "version": "3.12.4"
  }
 },
 "nbformat": 4,
 "nbformat_minor": 5
}
