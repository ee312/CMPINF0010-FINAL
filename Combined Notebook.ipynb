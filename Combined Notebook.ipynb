{
 "cells": [
  {
   "cell_type": "markdown",
   "id": "3630da29-2bf7-4504-9a5b-c2c63e794b3f",
   "metadata": {},
   "source": [
    "### Introduction\n",
    "  \n",
    "Using the datasets provided by the WPRDC, we narrowed down the factors for the best neighborhood in Pittsburgh to be based on:\n",
    "\n",
    "* Arrest Rates\n",
    "* Fire Occurences\n",
    "* Overdoses\n",
    "\n",
    "For each of these metrics, less is considered better. The best neighborhood should have the lowest arrest rates, the least fires, and the lowest number of overdoses. \n",
    "\n",
    "### Arrest Rates\n",
    "\n",
    "### Fire Occurences\n",
    "\n",
    "### Overdoses"
   ]
  }
 ],
 "metadata": {
  "kernelspec": {
   "display_name": "Python 3 (ipykernel)",
   "language": "python",
   "name": "python3"
  },
  "language_info": {
   "codemirror_mode": {
    "name": "ipython",
    "version": 3
   },
   "file_extension": ".py",
   "mimetype": "text/x-python",
   "name": "python",
   "nbconvert_exporter": "python",
   "pygments_lexer": "ipython3",
   "version": "3.12.4"
  }
 },
 "nbformat": 4,
 "nbformat_minor": 5
}
