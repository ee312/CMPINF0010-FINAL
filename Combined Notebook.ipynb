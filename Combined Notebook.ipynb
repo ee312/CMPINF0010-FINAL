{
 "cells": [
  {
   "cell_type": "markdown",
   "id": "3630da29-2bf7-4504-9a5b-c2c63e794b3f",
   "metadata": {},
   "source": [
    "### Introduction\n",
    "  \n",
    "Using the datasets provided by the WPRDC, we narrowed down the factors for the best neighborhood in Pittsburgh to be based on:\n",
    "\n",
    "* Arrest Rates\n",
    "* Fire Occurences\n",
    "* Overdoses\n",
    "\n",
    "For each of these metrics, less is considered better. The best neighborhood should have the lowest arrest rates, the least fires, and the lowest number of overdoses. \n",
    "\n",
    "**Initial Setup**\n"
   ]
  },
  {
   "cell_type": "code",
   "execution_count": null,
   "id": "e7abec0e-e722-4bf4-8c5d-1428dd0b5bd4",
   "metadata": {},
   "outputs": [],
   "source": [
    "import pandas as pd\n",
    "import geopandas as gp\n",
    "from datetime import datetime, timedelta\n",
    "%matplotlib inline\n",
    "import matplotlib.pyplot as plt\n",
    "import fpsnippets as fps\n",
    "\n",
    "HOODS = gp.read_file(\"https://data.wprdc.org/dataset/e672f13d-71c4-4a66-8f38-710e75ed80a4/resource/c5a93a8e-03d7-4eb3-91a8-c6b7db0fa261/download/pittsburghpaneighborhoods-.zip\")[\"hood\"]\n",
    "PoliceArrestsData = pd.read_csv('PoliceArrests.csv', sep=\",\")\n",
    "od_csv = \"https://data.wprdc.org/dataset/allegheny-county-fatal-accidental-overdoses/resource/1c59b26a-1684-4bfb-92f7-205b947530cf/download/1c59b26a-1684-4bfb-92f7-205b947530cf.csv\"\n",
    "od_data = pd.read_csv(od_csv)"
   ]
  },
  {
   "cell_type": "markdown",
   "id": "7371a953-0a27-4dcc-9552-32a6cee8a1c3",
   "metadata": {},
   "source": [
    "\n",
    "\n",
    "### Arrest Rates\n",
    "\n",
    "Arrest rates in each neighborhood will be used to determine crime rates in that neighborhood. The lower the crime rate, the less violence there is presumed to be within the neighborhood, and the safer the neighborhood is. \n",
    "\n",
    "### Fire Occurences\n",
    "\n",
    "\n",
    "\n",
    "### Overdoses\n",
    "\n",
    "The number of overdoses within each neighborhood will also be used to determine the safety of the neighborhood. The low the number of overdoses, the less illicit drugs are presumed to be used in the neighborhood, and the safer the neighborhood is. "
   ]
  }
 ],
 "metadata": {
  "kernelspec": {
   "display_name": "Python 3 (ipykernel)",
   "language": "python",
   "name": "python3"
  },
  "language_info": {
   "codemirror_mode": {
    "name": "ipython",
    "version": 3
   },
   "file_extension": ".py",
   "mimetype": "text/x-python",
   "name": "python",
   "nbconvert_exporter": "python",
   "pygments_lexer": "ipython3",
   "version": "3.12.4"
  }
 },
 "nbformat": 4,
 "nbformat_minor": 5
}
